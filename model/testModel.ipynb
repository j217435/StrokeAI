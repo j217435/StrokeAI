{
 "cells": [
  {
   "cell_type": "code",
   "execution_count": 1,
   "id": "adbd1064",
   "metadata": {},
   "outputs": [
    {
     "data": {
      "text/plain": [
       "'\\nAuthor: FengChiao Lee\\nDate: 07-13-2022\\n\\nLoading the training result from  saved model and predict the output\\n\\n'"
      ]
     },
     "execution_count": 1,
     "metadata": {},
     "output_type": "execute_result"
    }
   ],
   "source": [
    "\"\"\"\n",
    "Author: FengChiao Lee\n",
    "Date: 07-13-2022\n",
    "\n",
    "Loading the training result from  saved model and predict the output\n",
    "\n",
    "\"\"\""
   ]
  },
  {
   "cell_type": "code",
   "execution_count": 58,
   "id": "a3ceeedd",
   "metadata": {},
   "outputs": [],
   "source": [
    "import torch\n",
    "from torch.nn import CrossEntropyLoss\n",
    "from torch.utils.data.dataset import Dataset\n",
    "import SimpleITK as sitk\n",
    "import numpy as np\n",
    "import matplotlib.pyplot as plt\n",
    "import os\n",
    "os.environ['KMP_DUPLICATE_LIB_OK']='TRUE'\n",
    "import torchvision.transforms as transforms\n",
    "from torch.utils.data import DataLoader\n",
    "import torch\n",
    "import torch.optim as optim\n",
    "from tqdm import tqdm\n",
    "#from Unet_3d_model import Unet_3d\n",
    "import numpy as np\n",
    "import SimpleITK as sitk\n",
    "import torchvision \n",
    "import torch.utils.data as data\n",
    "import os\n",
    "import torch\n",
    "import torch.nn as nn\n",
    "import torch.nn.functional as F\n",
    "import matplotlib.pyplot as plt\n",
    "from torch.nn.parallel import DataParallel\n",
    "\n",
    "class Unet_3d(nn.Module):\n",
    "    def __init__(self, in_channel = 4, out_channel = 2, training = True):\n",
    "        super(Unet_3d, self).__init__()\n",
    "        self.trianing = training\n",
    "        # encoder section\n",
    "        self.encoder1 = nn.Sequential(\n",
    "            nn.Conv3d(in_channel, 2, 3, stride = 1, padding = 1),\n",
    "            nn.BatchNorm3d(2),\n",
    "            nn.ReLU(inplace = True),\n",
    "            nn.Conv3d(2, 2, 3, stride = 1, padding = 1),\n",
    "            nn.BatchNorm3d(2),\n",
    "            nn.ReLU(inplace = True)\n",
    "        )\n",
    "        self.encoder2 = nn.Sequential(\n",
    "            nn.Conv3d(2, 2, 3, stride = 1, padding = 1),\n",
    "            nn.BatchNorm3d(2),\n",
    "            nn.ReLU(inplace = True),\n",
    "            nn.Conv3d(2, 4, 3, stride = 1, padding = 1),\n",
    "            nn.BatchNorm3d(4),\n",
    "            nn.ReLU(inplace = True)\n",
    "        )\n",
    "        self.encoder3 = nn.Sequential(\n",
    "            nn.Conv3d(4, 4, 3, stride = 1, padding = 1),\n",
    "            nn.BatchNorm3d(4),\n",
    "            nn.ReLU(inplace = True),\n",
    "            nn.Conv3d(4, 8, 3, stride = 1, padding = 1),\n",
    "            nn.BatchNorm3d(8),\n",
    "            nn.ReLU(inplace = True)\n",
    "        )\n",
    "        self.encoder4 = nn.Sequential(\n",
    "            nn.Conv3d(8, 8, 3, stride = 1, padding = 1),\n",
    "            nn.BatchNorm3d(8),\n",
    "            nn.ReLU(inplace = True),\n",
    "            nn.Conv3d(8, 16, 3, stride = 1, padding = 1),\n",
    "            nn.BatchNorm3d(16),\n",
    "            nn.ReLU(inplace = True)\n",
    "        )\n",
    "\n",
    "        # decoder section\n",
    "        self.decoder1 = nn.Sequential(\n",
    "            nn.Conv3d(24, 8, 3, stride = 1, padding = 1),\n",
    "            nn.BatchNorm3d(8),\n",
    "            nn.ReLU(inplace = True),\n",
    "            nn.Conv3d(8, 8, 3, stride = 1, padding = 1),\n",
    "            nn.BatchNorm3d(8),\n",
    "            nn.ReLU(inplace = True)\n",
    "        )\n",
    "        self.decoder2 = nn.Sequential(\n",
    "            nn.Conv3d(12, 4, 3, stride = 1, padding = 1),\n",
    "            nn.BatchNorm3d(4),\n",
    "            nn.ReLU(inplace = True),\n",
    "            nn.Conv3d(4, 4, 3, stride = 1, padding = 1),\n",
    "            nn.BatchNorm3d(4),\n",
    "            nn.ReLU(inplace = True)\n",
    "        )\n",
    "        self.decoder3 = nn.Sequential(\n",
    "            nn.Conv3d(6, 2, 3, stride = 1, padding = 1),\n",
    "            nn.BatchNorm3d(2),\n",
    "            nn.ReLU(inplace = True),\n",
    "            nn.Conv3d(2, 2, 3, stride = 1, padding = 1),\n",
    "            nn.BatchNorm3d(2),\n",
    "            nn.ReLU(inplace = True),\n",
    "            nn.Conv3d(2, 1, 3, stride = 1, padding = 1)\n",
    "        )\n",
    "\n",
    "        \n",
    "    def forward(self, x):\n",
    "        # encoder section\n",
    "        x = self.encoder1(x)# relu(1->4)\n",
    "        f1 = x #(4)\n",
    "        #print(\"encoder1_size:\",f1.shape)\n",
    "        x = F.max_pool3d(x,kernel_size = 2,stride = 2,padding = 0)# maxpool(64->64)\n",
    "        #print(\"test\",x.shape)\n",
    "        x = self.encoder2(x)# relu(4->8)\n",
    "        f2 = x #(8)\n",
    "        #print(\"encoder2_size:\",f2.shape)\n",
    "        x = F.max_pool3d(x,kernel_size = 2,stride = 2,padding = 0)# maxpool(128->128)\n",
    "        x = self.encoder3(x)# relu(8->16)\n",
    "        f3 = x #(16)\n",
    "        #print(\"encoder3_size:\",f3.shape)\n",
    "        x = F.max_pool3d(x,kernel_size = 2,stride = 2,padding = 0)# maxpool(256->256)\n",
    "        x = self.encoder4(x)# relu(16->32)\n",
    "        #print(\"endcoder4_size:\", x.shape)\n",
    "        \n",
    "        # decoder section\n",
    "\n",
    "        x = F.interpolate(x, scale_factor = (f3.shape[2]/x.shape[2],2,2), mode = 'trilinear')# upsample(512->512)\n",
    "        #print(\"bottleneck_size:\",x.shape)\n",
    "        x = torch.cat((x,f3),1) #(32+16 = 48)\n",
    "        x = self.decoder1(x)# relu(48 ->16)\n",
    "        #print(\"decoder1_size:\",x.shape)\n",
    "        x = F.interpolate(x, scale_factor =(f2.shape[2]/x.shape[2],2,2), mode = 'trilinear')# upsample(256->256)\n",
    "        x = torch.cat((x,f2),1) #(16+8 = 32) \n",
    "        x = self.decoder2(x) # relu(384 ->128)\n",
    "        #print(\"decoder2_size:\",x.shape)\n",
    "        x = F.interpolate(x, scale_factor =(f1.shape[2]/x.shape[2],2,2), mode = 'trilinear')# upsample(128->128)\n",
    "        x = torch.cat((x,f1),1) #(8+4 = 12) \n",
    "        x = self.decoder3(x) # relu(192 ->2)\n",
    "        #print(\"decoder3_size:\",x.shape)\n",
    "        \n",
    "        return x       \n"
   ]
  },
  {
   "cell_type": "code",
   "execution_count": 59,
   "id": "032176de",
   "metadata": {},
   "outputs": [],
   "source": [
    "import torch\n",
    "from torch.nn import CrossEntropyLoss\n",
    "from torch.utils.data.dataset import Dataset\n",
    "import SimpleITK as sitk\n",
    "import numpy as np\n",
    "import matplotlib.pyplot as plt\n",
    "import os\n",
    "os.environ['KMP_DUPLICATE_LIB_OK']='TRUE'\n",
    "import torchvision.transforms as transforms\n",
    "from torch.utils.data import DataLoader\n",
    "import torch\n",
    "import torch.optim as optim\n",
    "from tqdm import tqdm\n",
    "#from Unet_3d_model import Unet_3d\n",
    "import numpy as np\n",
    "import SimpleITK as sitk\n",
    "import torchvision \n",
    "import torch.utils.data as data\n",
    "import os\n",
    "import torch\n",
    "import torch.nn as nn\n",
    "import torch.nn.functional as F\n",
    "import matplotlib.pyplot as plt"
   ]
  },
  {
   "cell_type": "code",
   "execution_count": 60,
   "id": "f08655ed",
   "metadata": {},
   "outputs": [],
   "source": [
    "import torch\n",
    "from torch.nn import CrossEntropyLoss\n",
    "from torch.utils.data.dataset import Dataset\n",
    "import SimpleITK as sitk\n",
    "import numpy as np\n",
    "import matplotlib.pyplot as plt\n",
    "import os\n",
    "os.environ['KMP_DUPLICATE_LIB_OK']='TRUE'\n",
    "import torchvision.transforms as transforms\n",
    "from torch.utils.data import DataLoader\n",
    "import torch\n",
    "import torch.optim as optim\n",
    "from tqdm import tqdm\n",
    "#from Unet_3d_model import Unet_3d\n",
    "import numpy as np\n",
    "import SimpleITK as sitk\n",
    "import torchvision \n",
    "import torch.utils.data as data\n",
    "import os\n",
    "import torch\n",
    "import torch.nn as nn\n",
    "import torch.nn.functional as F\n",
    "import matplotlib.pyplot as plt\n",
    "from utils import to_one_hot_3d\n",
    "from utils import BalancedDataParallel"
   ]
  },
  {
   "cell_type": "code",
   "execution_count": 61,
   "id": "b1ec2c10",
   "metadata": {},
   "outputs": [],
   "source": [
    "class Attention_block(nn.Module):\n",
    "    def __init__(self,F_g,F_l,F_int):\n",
    "        super(Attention_block, self).__init__()\n",
    "        self.W_g = nn.Sequential(\n",
    "            nn.Conv3d(F_g, F_int, kernel_size =3, stride =1, padding =1),\n",
    "            nn.BatchNorm3d(F_int)\n",
    "        )\n",
    "        self.W_x = nn.Sequential(\n",
    "            nn.Conv3d(F_l, F_int, kernel_size =3, stride =1, padding =1),\n",
    "            nn.BatchNorm3d(F_int)\n",
    "        )\n",
    "        self.psi = nn.Sequential(\n",
    "            nn.Conv3d(F_int, 1, kernel_size =3, stride =1, padding =1),\n",
    "            nn.BatchNorm3d(1),\n",
    "            nn.Sigmoid()\n",
    "            )\n",
    "        self.relu = nn.ReLU(inplace = True)\n",
    "    def forward(self, g, x):\n",
    "        g1 = self.W_g(g)\n",
    "        x1 = self.W_x(x)\n",
    "        #print(g1.shape)\n",
    "        #print(x1.shape)\n",
    "        g1 = F.interpolate(g1, scale_factor = (x1.shape[2]/g1.shape[2],0.5,0.5), mode = 'trilinear')\n",
    "        #print(g1.shape)\n",
    "        psi = self.relu(g1+x1)\n",
    "        psi = self.psi(psi)\n",
    "        #print(psi.shape)\n",
    "\n",
    "        return x*psi\n",
    "\n",
    "class conv_block(nn.Module):\n",
    "    def __init__(self, ch_in, ch_out):\n",
    "        super(conv_block,self).__init__()\n",
    "        self.conv = nn.Sequential(\n",
    "            nn.Conv3d(ch_in, ch_out, 3, stride = 1, padding = 1),\n",
    "            nn.BatchNorm3d(ch_out),\n",
    "            nn.ReLU(inplace = True),\n",
    "            nn.Conv3d(ch_in, ch_out, 3, stride = 1, padding = 1),\n",
    "            nn.BatchNorm3d(ch_out),\n",
    "            nn.ReLU(inplace = True)\n",
    "        )\n",
    "    def forward(self,x):\n",
    "        x = self.conv(x)\n",
    "        return x\n",
    "    \n",
    "class up_conv(nn.Module):\n",
    "    def __init__(self,ch_in,ch_out):\n",
    "        super(up_conv, self).__init__()\n",
    "        self.up = nn.Sequential(\n",
    "            nn.Upsample(scale_factor =2),\n",
    "            nn.Conv3d(ch_in,ch_out,3,stride =1 ,padding =1),\n",
    "            nn.BatchNorm3d(ch_out),\n",
    "            nn.ReLU(inpalce =True)\n",
    "        )\n",
    "    def forward(self, x):\n",
    "        x =self.up(x)\n",
    "        return x    \n",
    "\n",
    "\n",
    "\n",
    "class Att_Unet(nn.Module):\n",
    "    def __init__(self, in_channel = 4, out_channel = 2, training = True):\n",
    "        super(Att_Unet, self).__init__()\n",
    "        self.trianing = training\n",
    "        # encoder section\n",
    "        self.encoder1 = nn.Sequential(\n",
    "            nn.Conv3d(in_channel, 2, 3, stride = 1, padding = 1),\n",
    "            nn.BatchNorm3d(2),\n",
    "            nn.ReLU(inplace = True),\n",
    "            nn.Conv3d(2, 4, 3, stride = 1, padding = 1),\n",
    "            nn.BatchNorm3d(4),\n",
    "            nn.ReLU(inplace = True)\n",
    "        )\n",
    "        self.encoder2 = nn.Sequential(\n",
    "            nn.Conv3d(4, 4, 3, stride = 1, padding = 1),\n",
    "            nn.BatchNorm3d(4),\n",
    "            nn.ReLU(inplace = True),\n",
    "            nn.Conv3d(4, 8, 3, stride = 1, padding = 1),\n",
    "            nn.BatchNorm3d(8),\n",
    "            nn.ReLU(inplace = True)\n",
    "        )\n",
    "        self.encoder3 = nn.Sequential(\n",
    "            nn.Conv3d(8, 8, 3, stride = 1, padding = 1),\n",
    "            nn.BatchNorm3d(8),\n",
    "            nn.ReLU(inplace = True),\n",
    "            nn.Conv3d(8, 16, 3, stride = 1, padding = 1),\n",
    "            nn.BatchNorm3d(16),\n",
    "            nn.ReLU(inplace = True)\n",
    "        )\n",
    "        self.encoder4 = nn.Sequential(\n",
    "            nn.Conv3d(16, 16, 3, stride = 1, padding = 1),\n",
    "            nn.BatchNorm3d(16),\n",
    "            nn.ReLU(inplace = True)\n",
    "        )\n",
    "        self.att1 = Attention_block(F_g =16, F_l =16, F_int =16)\n",
    "        self.encoder5 = nn.Sequential(\n",
    "            nn.Conv3d(16, 32, 3, stride = 1, padding = 1),\n",
    "            nn.BatchNorm3d(32),\n",
    "            nn.ReLU(inplace = True)\n",
    "        )\n",
    "\n",
    "        # decoder section\n",
    "        self.decoder1 = nn.Sequential(\n",
    "            nn.Conv3d(48, 16, 3, stride = 1, padding = 1),\n",
    "            nn.BatchNorm3d(16),\n",
    "            nn.ReLU(inplace = True)\n",
    "        )\n",
    "        self.att2 = Attention_block(F_g=8, F_l=16, F_int =16)\n",
    "        self.decoder2 = nn.Sequential(\n",
    "            nn.Conv3d(16, 16, 3, stride = 1, padding = 1),\n",
    "            nn.BatchNorm3d(16),\n",
    "            nn.ReLU(inplace = True)\n",
    "        )\n",
    "        self.decoder3 = nn.Sequential(\n",
    "            nn.Conv3d(32, 8, 3, stride = 1, padding = 1),\n",
    "            nn.BatchNorm3d(8),\n",
    "            nn.ReLU(inplace = True)\n",
    "        )\n",
    "        self.att3 = Attention_block(F_g =4, F_l=8, F_int =8)\n",
    "        self.decoder4 = nn.Sequential(\n",
    "            nn.Conv3d(8, 8, 3, stride = 1, padding = 1),\n",
    "            nn.BatchNorm3d(8),\n",
    "            nn.ReLU(inplace = True)\n",
    "        )\n",
    "        self.decoder5 = nn.Sequential(\n",
    "            nn.Conv3d(16, 4, 3, stride = 1, padding = 1),\n",
    "            nn.BatchNorm3d(4),\n",
    "            nn.ReLU(inplace = True)\n",
    "        )\n",
    "        self.decoder6 = nn.Sequential(\n",
    "            nn.Conv3d(4, out_channel, 3, stride = 1, padding = 1)\n",
    "        )\n",
    "\n",
    "\n",
    "        \n",
    "    def forward(self, x):\n",
    "        # encoder section\n",
    "        #print('origin:',x.shape)\n",
    "        x = self.encoder1(x)# relu(4->8)\n",
    "        f1 = x #(8)\n",
    "        #print('f1:',x.shape)\n",
    "        #print(\"encoder1_size:\",f1.shape)\n",
    "        x = F.max_pool3d(x,kernel_size = 2,stride = 2,padding = 0)# maxpool(8->8)\n",
    "        #print(\"test\",x.shape)\n",
    "        x = self.encoder2(x)# relu(8->16)\n",
    "        f2 = x #(16)\n",
    "        # print('f2:',x.shape)\n",
    "        #print(\"encoder2_size:\",f2.shape)\n",
    "        x = F.max_pool3d(x,kernel_size = 2,stride = 2,padding = 0)# maxpool(16->16)\n",
    "        x = self.encoder3(x)# relu(16->32)\n",
    "        f3 = x #(32)\n",
    "        #print('f3:',x.shape)\n",
    "        #print(\"encoder3_size:\",f3.shape)\n",
    "        x = F.max_pool3d(x,kernel_size = 2,stride = 2,padding = 0)# maxpool(32->32)\n",
    "        x = self.encoder4(x)# relu(32->32)\n",
    "        a1 = x\n",
    "        #print('x:',x.shape)\n",
    "        A1 = self.att1(g = f3, x =a1)#attention block1\n",
    "        #print('A1:',A1.shape)\n",
    "        x = self.encoder5(x)#relu(32->64)\n",
    "        #print('x:',x.shape)\n",
    "        \n",
    "        # decoder section\n",
    "\n",
    "        x = F.interpolate(x, scale_factor = (f3.shape[2]/x.shape[2],2,2), mode = 'trilinear')# upsample（16->16)\n",
    "        #print('x:',x.shape)\n",
    "        A1 = F.interpolate(A1, scale_factor = (f3.shape[2]/A1.shape[2],2,2), mode = 'trilinear')# upsample（16->16)\n",
    "        #print('A1:',A1.shape)\n",
    "        x = torch.cat((x,A1),1) #(64+32 = 96)\n",
    "        #print('x:',x.shape)\n",
    "        x = self.decoder1(x)# relu(96 ->32)\n",
    "        #print('x:',x.shape)\n",
    "        a2 = x#attention block2, size = 32\n",
    "        #print('a2:',a2.shape)\n",
    "        #print('f2:',f2.shape)\n",
    "        A2 = self.att2(g =f2,x=a2) # size =32\n",
    "        #print('A2',A2.shape)\n",
    "        A2 = F.interpolate(A2, scale_factor = (f2.shape[2]/A2.shape[2],2,2), mode = 'trilinear')# upsample（16->16)\n",
    "\n",
    "        #print(\"decoder1_size:\",x.shape)\n",
    "        x = self.decoder2(x)#relu(32->32)\n",
    "        #print('x:',x.shape)\n",
    "        x = F.interpolate(x, scale_factor =(f2.shape[2]/x.shape[2],2,2), mode = 'trilinear')# upsample(256->256)\n",
    "        #print('A2:',A2.shape)\n",
    "        x = torch.cat((x,A2),1) #(4+4 = 8) \n",
    "        #print('x:',x.shape)\n",
    "        x = self.decoder3(x) # relu(8 ->2)\n",
    "        #print('x:',x.shape)\n",
    "        #print(\"decoder2_size:\",x.shape)\n",
    "        a3 = x#attention block2\n",
    "        #print('a3:',a3.shape)\n",
    "        A3 = self.att3(g =f1,x=a3)\n",
    "        #print('x:',x.shape)\n",
    "        A3 = F.interpolate(A3, scale_factor = (f1.shape[2]/A3.shape[2],2,2), mode = 'trilinear')# upsample（16->16)\n",
    "        #print('A3:',A3.shape)\n",
    "        x = self.decoder4(x)#relu(2->2)\n",
    "        #print('x:',x.shape)\n",
    "        x = F.interpolate(x, scale_factor =(f1.shape[2]/x.shape[2],2,2), mode = 'trilinear')# upsample(128->128)\n",
    "        #print('x:',x.shape)\n",
    "        x = torch.cat((x,A3),1) #(2+2 = 4)\n",
    "        #print('x:',x.shape) \n",
    "        x = self.decoder5(x) # relu(4 ->2)\n",
    "        #print('x:',x.shape)\n",
    "        #print(\"decoder3_size:\",x.shape)\n",
    "        x = self.decoder6(x)\n",
    "        #print('x:',x.shape)\n",
    "        \n",
    "        return x \n",
    "    \n",
    "def scatter(inputs, target_gpus, chunk_sizes, dim=0):\n",
    "    \"\"\"\n",
    "    Slices tensors into approximately equal chunks and\n",
    "    distributes them across given GPUs. Duplicates\n",
    "    references to objects that are not tensors.\n",
    "\n",
    "    # Source code: https://github.com/kimiyoung/transformer-xl\n",
    "    \"\"\"\n",
    "    def scatter_map(obj):\n",
    "        if isinstance(obj, torch.Tensor):\n",
    "            try:\n",
    "                return Scatter.apply(target_gpus, chunk_sizes, dim, obj)\n",
    "            except:\n",
    "                print('obj', obj.size())\n",
    "                print('dim', dim)\n",
    "                print('chunk_sizes', chunk_sizes)\n",
    "                quit()\n",
    "        if isinstance(obj, tuple) and len(obj) > 0:\n",
    "            return list(zip(*map(scatter_map, obj)))\n",
    "        if isinstance(obj, list) and len(obj) > 0:\n",
    "            return list(map(list, zip(*map(scatter_map, obj))))\n",
    "        if isinstance(obj, dict) and len(obj) > 0:\n",
    "            return list(map(type(obj), zip(*map(scatter_map, obj.items()))))\n",
    "        return [obj for targets in target_gpus]\n",
    "\n",
    "    \"\"\"\n",
    "        After scatter_map is called, a scatter_map cell will exist. This cell\n",
    "        has a reference to the actual function scatter_map, which has references\n",
    "        to a closure that has a reference to the scatter_map cell (because the\n",
    "        fn is recursive). To avoid this reference cycle, we set the function to\n",
    "        None, clearing the cell\n",
    "    \"\"\"\n",
    "\n",
    "    try:\n",
    "        return scatter_map(inputs)\n",
    "    finally:\n",
    "        scatter_map = None\n",
    "\n",
    "def scatter_kwargs(inputs, kwargs, target_gpus, chunk_sizes, dim=0):\n",
    "    r\"\"\"Scatter with support for kwargs dictionary\"\"\"\n",
    "    inputs = scatter(inputs, target_gpus, chunk_sizes, dim) if inputs else []\n",
    "    kwargs = scatter(kwargs, target_gpus, chunk_sizes, dim) if kwargs else []\n",
    "    if len(inputs) < len(kwargs):\n",
    "        inputs.extend([() for _ in range(len(kwargs) - len(inputs))])\n",
    "    elif len(kwargs) < len(inputs):\n",
    "        kwargs.extend([{} for _ in range(len(inputs) - len(kwargs))])\n",
    "    inputs = tuple(inputs)\n",
    "    kwargs = tuple(kwargs)\n",
    "    return inputs, kwargs\n",
    "\n",
    "class BalancedDataParallel(DataParallel):\n",
    "    def __init__(self, gpu0_bsz, *args, **kwargs):\n",
    "        self.gpu0_bsz = gpu0_bsz\n",
    "        super().__init__(*args, **kwargs)\n",
    "\n",
    "    def forward(self, *inputs, **kwargs):\n",
    "        if not self.device_ids:\n",
    "            return self.module(*inputs, **kwargs)\n",
    "        if self.gpu0_bsz == 0:\n",
    "            device_ids = self.device_ids[1:]\n",
    "        else:\n",
    "            device_ids = self.device_ids\n",
    "        inputs, kwargs = self.scatter(inputs, kwargs, device_ids)\n",
    "        if len(self.device_ids) == 1:\n",
    "            return self.module(*inputs[0], **kwargs[0])\n",
    "        replicas = self.replicate(self.module, self.device_ids)\n",
    "        if self.gpu0_bsz == 0:\n",
    "            replicas = replicas[1:]\n",
    "        outputs = self.parallel_apply(replicas, device_ids, inputs, kwargs)\n",
    "        return self.gather(outputs, self.output_device)\n",
    "\n",
    "    def parallel_apply(self, replicas, device_ids, inputs, kwargs):\n",
    "        return parallel_apply(replicas, inputs, kwargs, device_ids)\n",
    "\n",
    "    def scatter(self, inputs, kwargs, device_ids):\n",
    "        bsz = inputs[0].size(self.dim)\n",
    "        num_dev = len(self.device_ids)\n",
    "        gpu0_bsz = self.gpu0_bsz\n",
    "        bsz_unit = (bsz - gpu0_bsz) // (num_dev - 1)\n",
    "        if gpu0_bsz < bsz_unit:\n",
    "            chunk_sizes = [gpu0_bsz] + [bsz_unit] * (num_dev - 1)\n",
    "            delta = bsz - sum(chunk_sizes)\n",
    "            for i in range(delta):\n",
    "                chunk_sizes[i + 1] += 1\n",
    "            if gpu0_bsz == 0:\n",
    "                chunk_sizes = chunk_sizes[1:]\n",
    "        else:\n",
    "            return super().scatter(inputs, kwargs, device_ids)\n",
    "\n",
    "        # print('bsz: ', bsz)\n",
    "        # print('num_dev: ', num_dev)\n",
    "        # print('gpu0_bsz: ', gpu0_bsz)\n",
    "        # print('bsz_unit: ', bsz_unit)\n",
    "        # print('chunk_sizes: ', chunk_sizes)\n",
    "        return scatter_kwargs(inputs, kwargs, device_ids, chunk_sizes, dim=self.dim)\n",
    "\n",
    "\n"
   ]
  },
  {
   "cell_type": "code",
   "execution_count": 62,
   "id": "1dd27499",
   "metadata": {},
   "outputs": [],
   "source": [
    "\n",
    "att_path = r'S:\\StrokeAI\\Try\\3dUnet\\checkpoint\\para_comunet_BCE1207.pt'\n",
    "unet_path = r'S:\\StrokeAI\\Try\\3dUnet\\checkpoint\\best_model_072209pm.pt'"
   ]
  },
  {
   "cell_type": "code",
   "execution_count": 63,
   "id": "fbe26554",
   "metadata": {},
   "outputs": [],
   "source": [
    "device = torch.device(\"cuda:0\" if torch.cuda.is_available() else \"cpu\")\n",
    "checkpoint =torch.load(att_path, map_location=device)"
   ]
  },
  {
   "cell_type": "code",
   "execution_count": 71,
   "id": "5a19e105",
   "metadata": {},
   "outputs": [],
   "source": [
    "def load_checkpoint(filepath):\n",
    "    device = torch.device(\"cuda:0\" if torch.cuda.is_available() else \"cpu\")\n",
    "    checkpoint =torch.load(filepath, map_location=device)\n",
    "    from collections import OrderedDict\n",
    "    new_state_dict = OrderedDict()\n",
    "    for k, v in checkpoint.items():\n",
    "        name = k[7:]\n",
    "        new_state_dict[name] = v\n",
    "        \n",
    "    model = checkpoint['model']\n",
    "    model.load_state_dict(new_state_dict, strict = False)\n",
    "    optimizer = optim.Adam(model.parameters())\n",
    "    optimizer.load_state_dict(checkpoint['optimizer_state_dict'])\n",
    "  \n",
    "    for parameter in model.parameters():\n",
    "        parameter.requires_grad = False\n",
    "\n",
    "    model.eval()\n",
    "    return model, checkpoint"
   ]
  },
  {
   "cell_type": "code",
   "execution_count": 72,
   "id": "d5fd2bf3",
   "metadata": {},
   "outputs": [],
   "source": [
    "attmodel, attcheckpoint = load_checkpoint(att_path)\n",
    "unetmodel, unetcheckpoint = load_checkpoint(unet_path)\n",
    "#checkpoint =torch.load(att_path, map_location=device)"
   ]
  },
  {
   "cell_type": "code",
   "execution_count": 46,
   "id": "546a9764",
   "metadata": {},
   "outputs": [
    {
     "name": "stdout",
     "output_type": "stream",
     "text": [
      "{('BRATS_331.nii.gz',)}\n"
     ]
    }
   ],
   "source": [
    "print(set(attcheckpoint['test_name']) & set(unetcheckpoint['test_name']))"
   ]
  },
  {
   "cell_type": "code",
   "execution_count": 73,
   "id": "c7296602",
   "metadata": {
    "scrolled": true
   },
   "outputs": [
    {
     "data": {
      "text/plain": [
       "Text(0, 0.5, 'dice/loss')"
      ]
     },
     "execution_count": 73,
     "metadata": {},
     "output_type": "execute_result"
    },
    {
     "data": {
      "image/png": "[encoded data removed]",
      "text/plain": [
       "<Figure size 432x288 with 1 Axes>"
      ]
     },
     "metadata": {
      "needs_background": "light"
     },
     "output_type": "display_data"
    },
    {
     "data": {
      "image/png": "[encoded data removed]",
      "text/plain": [
       "<Figure size 432x288 with 1 Axes>"
      ]
     },
     "metadata": {
      "needs_background": "light"
     },
     "output_type": "display_data"
    }
   ],
   "source": [
    "train_loss =checkpoint['train_loss']\n",
    "val_loss = checkpoint['val_loss']\n",
    "train_dice =checkpoint['train_dice']\n",
    "val_dice = checkpoint['val_dice']\n",
    "plt.figure(1)\n",
    "plt.plot(train_loss)\n",
    "plt.plot(val_loss)\n",
    "plt.legend([\"train_loss\",'val_loss'])\n",
    "plt.xlabel('epoch')\n",
    "plt.ylabel('dice/loss')\n",
    "plt.figure(2)\n",
    "plt.plot(train_dice)\n",
    "plt.plot(val_dice)\n",
    "plt.legend([\"train_dice\",'val_dice'])\n",
    "plt.xlabel('epoch')\n",
    "plt.ylabel('dice/loss')"
   ]
  },
  {
   "cell_type": "code",
   "execution_count": null,
   "id": "8cb7b386",
   "metadata": {},
   "outputs": [],
   "source": []
  },
  {
   "cell_type": "code",
   "execution_count": 92,
   "id": "2d080a92",
   "metadata": {},
   "outputs": [
    {
     "data": {
      "text/plain": [
       "[0.06741837859153747,\n",
       " 0.06772188544273376,\n",
       " 0.07403799295425414,\n",
       " 0.07724083662033081,\n",
       " 0.08192334175109864,\n",
       " 0.08445714712142945,\n",
       " 0.09036411046981811,\n",
       " 0.09768971800804138,\n",
       " 0.10284991264343261,\n",
       " 0.1160132884979248,\n",
       " 0.12441308498382568,\n",
       " 0.13679757118225097,\n",
       " 0.1471158266067505,\n",
       " 0.16341567039489746,\n",
       " 0.17771724462509156,\n",
       " 0.18615362644195557,\n",
       " 0.20944743156433104,\n",
       " 0.22951040267944336,\n",
       " 0.24587292671203614,\n",
       " 0.26739158630371096,\n",
       " 0.2834100484848022,\n",
       " 0.3061940670013428,\n",
       " 0.3193089008331299,\n",
       " 0.3406625270843506,\n",
       " 0.38246593475341795,\n",
       " 0.377103853225708,\n",
       " 0.44069795608520507,\n",
       " 0.46098647117614744,\n",
       " 0.48516178131103516,\n",
       " 0.4991940498352051,\n",
       " 0.5324331760406494,\n",
       " 0.5609809875488281,\n",
       " 0.5692995548248291,\n",
       " 0.6091269493103028,\n",
       " 0.6385797500610352,\n",
       " 0.6730726718902588,\n",
       " 0.7030399322509766,\n",
       " 0.7113144397735596,\n",
       " 0.717248010635376,\n",
       " 0.7251802921295166,\n",
       " 0.7459795475006104,\n",
       " 0.7607610702514649,\n",
       " 0.722083330154419,\n",
       " 0.8036686897277832,\n",
       " 0.7938218593597413,\n",
       " 0.8198315620422363,\n",
       " 0.8390591621398926,\n",
       " 0.8036967277526855,\n",
       " 0.8323034286499024,\n",
       " 0.8601723670959472]"
      ]
     },
     "execution_count": 92,
     "metadata": {},
     "output_type": "execute_result"
    }
   ],
   "source": [
    "unetcheckpoint['val_dice']"
   ]
  },
  {
   "cell_type": "code",
   "execution_count": 74,
   "id": "30b8853a",
   "metadata": {},
   "outputs": [],
   "source": [
    "test_image_path = r'S:\\StrokeAI\\Try\\3dUnet\\TestData\\Task01_BrainTumour\\Task01_BrainTumour\\imagesTr\\BRATS_307.nii.gz'"
   ]
  },
  {
   "cell_type": "code",
   "execution_count": 75,
   "id": "3bef5204",
   "metadata": {},
   "outputs": [
    {
     "name": "stdout",
     "output_type": "stream",
     "text": [
      "(-1.0, 0.0, 0.0, 0.0, 0.0, -1.0, 0.0, 0.0, 0.0, 0.0, 1.0, 0.0, 0.0, 0.0, 0.0, 1.0)\n"
     ]
    }
   ],
   "source": [
    "test_img = sitk.ReadImage(test_image_path)\n",
    "direct = test_img.GetDirection()\n",
    "print(direct)\n",
    "test_img = sitk.GetArrayFromImage(test_img)\n",
    "test_tensor = torch.FloatTensor(test_img)"
   ]
  },
  {
   "cell_type": "code",
   "execution_count": 76,
   "id": "48371be8",
   "metadata": {},
   "outputs": [
    {
     "ename": "AttributeError",
     "evalue": "module 'torch._C' has no attribute '_scatter'",
     "output_type": "error",
     "traceback": [
      "\u001b[1;31m---------------------------------------------------------------------------\u001b[0m",
      "\u001b[1;31mAttributeError\u001b[0m                            Traceback (most recent call last)",
      "\u001b[1;32m~\\AppData\\Local\\Temp\\ipykernel_10232\\3072006121.py\u001b[0m in \u001b[0;36m<module>\u001b[1;34m\u001b[0m\n\u001b[0;32m      1\u001b[0m \u001b[1;32mwith\u001b[0m \u001b[0mtorch\u001b[0m\u001b[1;33m.\u001b[0m\u001b[0mno_grad\u001b[0m\u001b[1;33m(\u001b[0m\u001b[1;33m)\u001b[0m\u001b[1;33m:\u001b[0m\u001b[1;33m\u001b[0m\u001b[1;33m\u001b[0m\u001b[0m\n\u001b[1;32m----> 2\u001b[1;33m     \u001b[0moutput\u001b[0m \u001b[1;33m=\u001b[0m \u001b[0mattmodel\u001b[0m\u001b[1;33m.\u001b[0m\u001b[0mforward\u001b[0m\u001b[1;33m(\u001b[0m\u001b[0mtest_tensor\u001b[0m\u001b[1;33m.\u001b[0m\u001b[0munsqueeze\u001b[0m\u001b[1;33m(\u001b[0m\u001b[1;36m0\u001b[0m\u001b[1;33m)\u001b[0m\u001b[1;33m)\u001b[0m\u001b[1;33m\u001b[0m\u001b[1;33m\u001b[0m\u001b[0m\n\u001b[0m",
      "\u001b[1;32m~\\AppData\\Local\\Temp\\ipykernel_10232\\249774759.py\u001b[0m in \u001b[0;36mforward\u001b[1;34m(self, *inputs, **kwargs)\u001b[0m\n\u001b[0;32m    270\u001b[0m         \u001b[1;32melse\u001b[0m\u001b[1;33m:\u001b[0m\u001b[1;33m\u001b[0m\u001b[1;33m\u001b[0m\u001b[0m\n\u001b[0;32m    271\u001b[0m             \u001b[0mdevice_ids\u001b[0m \u001b[1;33m=\u001b[0m \u001b[0mself\u001b[0m\u001b[1;33m.\u001b[0m\u001b[0mdevice_ids\u001b[0m\u001b[1;33m\u001b[0m\u001b[1;33m\u001b[0m\u001b[0m\n\u001b[1;32m--> 272\u001b[1;33m         \u001b[0minputs\u001b[0m\u001b[1;33m,\u001b[0m \u001b[0mkwargs\u001b[0m \u001b[1;33m=\u001b[0m \u001b[0mself\u001b[0m\u001b[1;33m.\u001b[0m\u001b[0mscatter\u001b[0m\u001b[1;33m(\u001b[0m\u001b[0minputs\u001b[0m\u001b[1;33m,\u001b[0m \u001b[0mkwargs\u001b[0m\u001b[1;33m,\u001b[0m \u001b[0mdevice_ids\u001b[0m\u001b[1;33m)\u001b[0m\u001b[1;33m\u001b[0m\u001b[1;33m\u001b[0m\u001b[0m\n\u001b[0m\u001b[0;32m    273\u001b[0m         \u001b[1;32mif\u001b[0m \u001b[0mlen\u001b[0m\u001b[1;33m(\u001b[0m\u001b[0mself\u001b[0m\u001b[1;33m.\u001b[0m\u001b[0mdevice_ids\u001b[0m\u001b[1;33m)\u001b[0m \u001b[1;33m==\u001b[0m \u001b[1;36m1\u001b[0m\u001b[1;33m:\u001b[0m\u001b[1;33m\u001b[0m\u001b[1;33m\u001b[0m\u001b[0m\n\u001b[0;32m    274\u001b[0m             \u001b[1;32mreturn\u001b[0m \u001b[0mself\u001b[0m\u001b[1;33m.\u001b[0m\u001b[0mmodule\u001b[0m\u001b[1;33m(\u001b[0m\u001b[1;33m*\u001b[0m\u001b[0minputs\u001b[0m\u001b[1;33m[\u001b[0m\u001b[1;36m0\u001b[0m\u001b[1;33m]\u001b[0m\u001b[1;33m,\u001b[0m \u001b[1;33m**\u001b[0m\u001b[0mkwargs\u001b[0m\u001b[1;33m[\u001b[0m\u001b[1;36m0\u001b[0m\u001b[1;33m]\u001b[0m\u001b[1;33m)\u001b[0m\u001b[1;33m\u001b[0m\u001b[1;33m\u001b[0m\u001b[0m\n",
      "\u001b[1;32m~\\AppData\\Local\\Temp\\ipykernel_10232\\249774759.py\u001b[0m in \u001b[0;36mscatter\u001b[1;34m(self, inputs, kwargs, device_ids)\u001b[0m\n\u001b[0;32m    295\u001b[0m                 \u001b[0mchunk_sizes\u001b[0m \u001b[1;33m=\u001b[0m \u001b[0mchunk_sizes\u001b[0m\u001b[1;33m[\u001b[0m\u001b[1;36m1\u001b[0m\u001b[1;33m:\u001b[0m\u001b[1;33m]\u001b[0m\u001b[1;33m\u001b[0m\u001b[1;33m\u001b[0m\u001b[0m\n\u001b[0;32m    296\u001b[0m         \u001b[1;32melse\u001b[0m\u001b[1;33m:\u001b[0m\u001b[1;33m\u001b[0m\u001b[1;33m\u001b[0m\u001b[0m\n\u001b[1;32m--> 297\u001b[1;33m             \u001b[1;32mreturn\u001b[0m \u001b[0msuper\u001b[0m\u001b[1;33m(\u001b[0m\u001b[1;33m)\u001b[0m\u001b[1;33m.\u001b[0m\u001b[0mscatter\u001b[0m\u001b[1;33m(\u001b[0m\u001b[0minputs\u001b[0m\u001b[1;33m,\u001b[0m \u001b[0mkwargs\u001b[0m\u001b[1;33m,\u001b[0m \u001b[0mdevice_ids\u001b[0m\u001b[1;33m)\u001b[0m\u001b[1;33m\u001b[0m\u001b[1;33m\u001b[0m\u001b[0m\n\u001b[0m\u001b[0;32m    298\u001b[0m \u001b[1;33m\u001b[0m\u001b[0m\n\u001b[0;32m    299\u001b[0m         \u001b[1;31m# print('bsz: ', bsz)\u001b[0m\u001b[1;33m\u001b[0m\u001b[1;33m\u001b[0m\u001b[1;33m\u001b[0m\u001b[0m\n",
      "\u001b[1;32m~\\AppData\\Roaming\\Python\\Python37\\site-packages\\torch\\nn\\parallel\\data_parallel.py\u001b[0m in \u001b[0;36mscatter\u001b[1;34m(self, inputs, kwargs, device_ids)\u001b[0m\n\u001b[0;32m    176\u001b[0m \u001b[1;33m\u001b[0m\u001b[0m\n\u001b[0;32m    177\u001b[0m     \u001b[1;32mdef\u001b[0m \u001b[0mscatter\u001b[0m\u001b[1;33m(\u001b[0m\u001b[0mself\u001b[0m\u001b[1;33m,\u001b[0m \u001b[0minputs\u001b[0m\u001b[1;33m,\u001b[0m \u001b[0mkwargs\u001b[0m\u001b[1;33m,\u001b[0m \u001b[0mdevice_ids\u001b[0m\u001b[1;33m)\u001b[0m\u001b[1;33m:\u001b[0m\u001b[1;33m\u001b[0m\u001b[1;33m\u001b[0m\u001b[0m\n\u001b[1;32m--> 178\u001b[1;33m         \u001b[1;32mreturn\u001b[0m \u001b[0mscatter_kwargs\u001b[0m\u001b[1;33m(\u001b[0m\u001b[0minputs\u001b[0m\u001b[1;33m,\u001b[0m \u001b[0mkwargs\u001b[0m\u001b[1;33m,\u001b[0m \u001b[0mdevice_ids\u001b[0m\u001b[1;33m,\u001b[0m \u001b[0mdim\u001b[0m\u001b[1;33m=\u001b[0m\u001b[0mself\u001b[0m\u001b[1;33m.\u001b[0m\u001b[0mdim\u001b[0m\u001b[1;33m)\u001b[0m\u001b[1;33m\u001b[0m\u001b[1;33m\u001b[0m\u001b[0m\n\u001b[0m\u001b[0;32m    179\u001b[0m \u001b[1;33m\u001b[0m\u001b[0m\n\u001b[0;32m    180\u001b[0m     \u001b[1;32mdef\u001b[0m \u001b[0mparallel_apply\u001b[0m\u001b[1;33m(\u001b[0m\u001b[0mself\u001b[0m\u001b[1;33m,\u001b[0m \u001b[0mreplicas\u001b[0m\u001b[1;33m,\u001b[0m \u001b[0minputs\u001b[0m\u001b[1;33m,\u001b[0m \u001b[0mkwargs\u001b[0m\u001b[1;33m)\u001b[0m\u001b[1;33m:\u001b[0m\u001b[1;33m\u001b[0m\u001b[1;33m\u001b[0m\u001b[0m\n",
      "\u001b[1;32m~\\AppData\\Roaming\\Python\\Python37\\site-packages\\torch\\nn\\parallel\\scatter_gather.py\u001b[0m in \u001b[0;36mscatter_kwargs\u001b[1;34m(inputs, kwargs, target_gpus, dim)\u001b[0m\n\u001b[0;32m     50\u001b[0m \u001b[1;32mdef\u001b[0m \u001b[0mscatter_kwargs\u001b[0m\u001b[1;33m(\u001b[0m\u001b[0minputs\u001b[0m\u001b[1;33m,\u001b[0m \u001b[0mkwargs\u001b[0m\u001b[1;33m,\u001b[0m \u001b[0mtarget_gpus\u001b[0m\u001b[1;33m,\u001b[0m \u001b[0mdim\u001b[0m\u001b[1;33m=\u001b[0m\u001b[1;36m0\u001b[0m\u001b[1;33m)\u001b[0m\u001b[1;33m:\u001b[0m\u001b[1;33m\u001b[0m\u001b[1;33m\u001b[0m\u001b[0m\n\u001b[0;32m     51\u001b[0m     \u001b[1;34mr\"\"\"Scatter with support for kwargs dictionary\"\"\"\u001b[0m\u001b[1;33m\u001b[0m\u001b[1;33m\u001b[0m\u001b[0m\n\u001b[1;32m---> 52\u001b[1;33m     \u001b[0minputs\u001b[0m \u001b[1;33m=\u001b[0m \u001b[0mscatter\u001b[0m\u001b[1;33m(\u001b[0m\u001b[0minputs\u001b[0m\u001b[1;33m,\u001b[0m \u001b[0mtarget_gpus\u001b[0m\u001b[1;33m,\u001b[0m \u001b[0mdim\u001b[0m\u001b[1;33m)\u001b[0m \u001b[1;32mif\u001b[0m \u001b[0minputs\u001b[0m \u001b[1;32melse\u001b[0m \u001b[1;33m[\u001b[0m\u001b[1;33m]\u001b[0m\u001b[1;33m\u001b[0m\u001b[1;33m\u001b[0m\u001b[0m\n\u001b[0m\u001b[0;32m     53\u001b[0m     \u001b[0mkwargs\u001b[0m \u001b[1;33m=\u001b[0m \u001b[0mscatter\u001b[0m\u001b[1;33m(\u001b[0m\u001b[0mkwargs\u001b[0m\u001b[1;33m,\u001b[0m \u001b[0mtarget_gpus\u001b[0m\u001b[1;33m,\u001b[0m \u001b[0mdim\u001b[0m\u001b[1;33m)\u001b[0m \u001b[1;32mif\u001b[0m \u001b[0mkwargs\u001b[0m \u001b[1;32melse\u001b[0m \u001b[1;33m[\u001b[0m\u001b[1;33m]\u001b[0m\u001b[1;33m\u001b[0m\u001b[1;33m\u001b[0m\u001b[0m\n\u001b[0;32m     54\u001b[0m     \u001b[1;32mif\u001b[0m \u001b[0mlen\u001b[0m\u001b[1;33m(\u001b[0m\u001b[0minputs\u001b[0m\u001b[1;33m)\u001b[0m \u001b[1;33m<\u001b[0m \u001b[0mlen\u001b[0m\u001b[1;33m(\u001b[0m\u001b[0mkwargs\u001b[0m\u001b[1;33m)\u001b[0m\u001b[1;33m:\u001b[0m\u001b[1;33m\u001b[0m\u001b[1;33m\u001b[0m\u001b[0m\n",
      "\u001b[1;32m~\\AppData\\Roaming\\Python\\Python37\\site-packages\\torch\\nn\\parallel\\scatter_gather.py\u001b[0m in \u001b[0;36mscatter\u001b[1;34m(inputs, target_gpus, dim)\u001b[0m\n\u001b[0;32m     42\u001b[0m     \u001b[1;31m# None, clearing the cell\u001b[0m\u001b[1;33m\u001b[0m\u001b[1;33m\u001b[0m\u001b[1;33m\u001b[0m\u001b[0m\n\u001b[0;32m     43\u001b[0m     \u001b[1;32mtry\u001b[0m\u001b[1;33m:\u001b[0m\u001b[1;33m\u001b[0m\u001b[1;33m\u001b[0m\u001b[0m\n\u001b[1;32m---> 44\u001b[1;33m         \u001b[0mres\u001b[0m \u001b[1;33m=\u001b[0m \u001b[0mscatter_map\u001b[0m\u001b[1;33m(\u001b[0m\u001b[0minputs\u001b[0m\u001b[1;33m)\u001b[0m\u001b[1;33m\u001b[0m\u001b[1;33m\u001b[0m\u001b[0m\n\u001b[0m\u001b[0;32m     45\u001b[0m     \u001b[1;32mfinally\u001b[0m\u001b[1;33m:\u001b[0m\u001b[1;33m\u001b[0m\u001b[1;33m\u001b[0m\u001b[0m\n\u001b[0;32m     46\u001b[0m         \u001b[0mscatter_map\u001b[0m \u001b[1;33m=\u001b[0m \u001b[1;32mNone\u001b[0m\u001b[1;33m\u001b[0m\u001b[1;33m\u001b[0m\u001b[0m\n",
      "\u001b[1;32m~\\AppData\\Roaming\\Python\\Python37\\site-packages\\torch\\nn\\parallel\\scatter_gather.py\u001b[0m in \u001b[0;36mscatter_map\u001b[1;34m(obj)\u001b[0m\n\u001b[0;32m     29\u001b[0m             \u001b[1;32mreturn\u001b[0m \u001b[1;33m[\u001b[0m\u001b[0mtype\u001b[0m\u001b[1;33m(\u001b[0m\u001b[0mobj\u001b[0m\u001b[1;33m)\u001b[0m\u001b[1;33m(\u001b[0m\u001b[1;33m*\u001b[0m\u001b[0margs\u001b[0m\u001b[1;33m)\u001b[0m \u001b[1;32mfor\u001b[0m \u001b[0margs\u001b[0m \u001b[1;32min\u001b[0m \u001b[0mzip\u001b[0m\u001b[1;33m(\u001b[0m\u001b[1;33m*\u001b[0m\u001b[0mmap\u001b[0m\u001b[1;33m(\u001b[0m\u001b[0mscatter_map\u001b[0m\u001b[1;33m,\u001b[0m \u001b[0mobj\u001b[0m\u001b[1;33m)\u001b[0m\u001b[1;33m)\u001b[0m\u001b[1;33m]\u001b[0m\u001b[1;33m\u001b[0m\u001b[1;33m\u001b[0m\u001b[0m\n\u001b[0;32m     30\u001b[0m         \u001b[1;32mif\u001b[0m \u001b[0misinstance\u001b[0m\u001b[1;33m(\u001b[0m\u001b[0mobj\u001b[0m\u001b[1;33m,\u001b[0m \u001b[0mtuple\u001b[0m\u001b[1;33m)\u001b[0m \u001b[1;32mand\u001b[0m \u001b[0mlen\u001b[0m\u001b[1;33m(\u001b[0m\u001b[0mobj\u001b[0m\u001b[1;33m)\u001b[0m \u001b[1;33m>\u001b[0m \u001b[1;36m0\u001b[0m\u001b[1;33m:\u001b[0m\u001b[1;33m\u001b[0m\u001b[1;33m\u001b[0m\u001b[0m\n\u001b[1;32m---> 31\u001b[1;33m             \u001b[1;32mreturn\u001b[0m \u001b[0mlist\u001b[0m\u001b[1;33m(\u001b[0m\u001b[0mzip\u001b[0m\u001b[1;33m(\u001b[0m\u001b[1;33m*\u001b[0m\u001b[0mmap\u001b[0m\u001b[1;33m(\u001b[0m\u001b[0mscatter_map\u001b[0m\u001b[1;33m,\u001b[0m \u001b[0mobj\u001b[0m\u001b[1;33m)\u001b[0m\u001b[1;33m)\u001b[0m\u001b[1;33m)\u001b[0m\u001b[1;33m\u001b[0m\u001b[1;33m\u001b[0m\u001b[0m\n\u001b[0m\u001b[0;32m     32\u001b[0m         \u001b[1;32mif\u001b[0m \u001b[0misinstance\u001b[0m\u001b[1;33m(\u001b[0m\u001b[0mobj\u001b[0m\u001b[1;33m,\u001b[0m \u001b[0mlist\u001b[0m\u001b[1;33m)\u001b[0m \u001b[1;32mand\u001b[0m \u001b[0mlen\u001b[0m\u001b[1;33m(\u001b[0m\u001b[0mobj\u001b[0m\u001b[1;33m)\u001b[0m \u001b[1;33m>\u001b[0m \u001b[1;36m0\u001b[0m\u001b[1;33m:\u001b[0m\u001b[1;33m\u001b[0m\u001b[1;33m\u001b[0m\u001b[0m\n\u001b[0;32m     33\u001b[0m             \u001b[1;32mreturn\u001b[0m \u001b[1;33m[\u001b[0m\u001b[0mlist\u001b[0m\u001b[1;33m(\u001b[0m\u001b[0mi\u001b[0m\u001b[1;33m)\u001b[0m \u001b[1;32mfor\u001b[0m \u001b[0mi\u001b[0m \u001b[1;32min\u001b[0m \u001b[0mzip\u001b[0m\u001b[1;33m(\u001b[0m\u001b[1;33m*\u001b[0m\u001b[0mmap\u001b[0m\u001b[1;33m(\u001b[0m\u001b[0mscatter_map\u001b[0m\u001b[1;33m,\u001b[0m \u001b[0mobj\u001b[0m\u001b[1;33m)\u001b[0m\u001b[1;33m)\u001b[0m\u001b[1;33m]\u001b[0m\u001b[1;33m\u001b[0m\u001b[1;33m\u001b[0m\u001b[0m\n",
      "\u001b[1;32m~\\AppData\\Roaming\\Python\\Python37\\site-packages\\torch\\nn\\parallel\\scatter_gather.py\u001b[0m in \u001b[0;36mscatter_map\u001b[1;34m(obj)\u001b[0m\n\u001b[0;32m     25\u001b[0m     \u001b[1;32mdef\u001b[0m \u001b[0mscatter_map\u001b[0m\u001b[1;33m(\u001b[0m\u001b[0mobj\u001b[0m\u001b[1;33m)\u001b[0m\u001b[1;33m:\u001b[0m\u001b[1;33m\u001b[0m\u001b[1;33m\u001b[0m\u001b[0m\n\u001b[0;32m     26\u001b[0m         \u001b[1;32mif\u001b[0m \u001b[0misinstance\u001b[0m\u001b[1;33m(\u001b[0m\u001b[0mobj\u001b[0m\u001b[1;33m,\u001b[0m \u001b[0mtorch\u001b[0m\u001b[1;33m.\u001b[0m\u001b[0mTensor\u001b[0m\u001b[1;33m)\u001b[0m\u001b[1;33m:\u001b[0m\u001b[1;33m\u001b[0m\u001b[1;33m\u001b[0m\u001b[0m\n\u001b[1;32m---> 27\u001b[1;33m             \u001b[1;32mreturn\u001b[0m \u001b[0mScatter\u001b[0m\u001b[1;33m.\u001b[0m\u001b[0mapply\u001b[0m\u001b[1;33m(\u001b[0m\u001b[0mtarget_gpus\u001b[0m\u001b[1;33m,\u001b[0m \u001b[1;32mNone\u001b[0m\u001b[1;33m,\u001b[0m \u001b[0mdim\u001b[0m\u001b[1;33m,\u001b[0m \u001b[0mobj\u001b[0m\u001b[1;33m)\u001b[0m\u001b[1;33m\u001b[0m\u001b[1;33m\u001b[0m\u001b[0m\n\u001b[0m\u001b[0;32m     28\u001b[0m         \u001b[1;32mif\u001b[0m \u001b[0m_is_namedtuple\u001b[0m\u001b[1;33m(\u001b[0m\u001b[0mobj\u001b[0m\u001b[1;33m)\u001b[0m\u001b[1;33m:\u001b[0m\u001b[1;33m\u001b[0m\u001b[1;33m\u001b[0m\u001b[0m\n\u001b[0;32m     29\u001b[0m             \u001b[1;32mreturn\u001b[0m \u001b[1;33m[\u001b[0m\u001b[0mtype\u001b[0m\u001b[1;33m(\u001b[0m\u001b[0mobj\u001b[0m\u001b[1;33m)\u001b[0m\u001b[1;33m(\u001b[0m\u001b[1;33m*\u001b[0m\u001b[0margs\u001b[0m\u001b[1;33m)\u001b[0m \u001b[1;32mfor\u001b[0m \u001b[0margs\u001b[0m \u001b[1;32min\u001b[0m \u001b[0mzip\u001b[0m\u001b[1;33m(\u001b[0m\u001b[1;33m*\u001b[0m\u001b[0mmap\u001b[0m\u001b[1;33m(\u001b[0m\u001b[0mscatter_map\u001b[0m\u001b[1;33m,\u001b[0m \u001b[0mobj\u001b[0m\u001b[1;33m)\u001b[0m\u001b[1;33m)\u001b[0m\u001b[1;33m]\u001b[0m\u001b[1;33m\u001b[0m\u001b[1;33m\u001b[0m\u001b[0m\n",
      "\u001b[1;32m~\\AppData\\Roaming\\Python\\Python37\\site-packages\\torch\\nn\\parallel\\_functions.py\u001b[0m in \u001b[0;36mforward\u001b[1;34m(ctx, target_gpus, chunk_sizes, dim, input)\u001b[0m\n\u001b[0;32m     94\u001b[0m             \u001b[1;31m# Perform CPU to GPU copies in a background stream\u001b[0m\u001b[1;33m\u001b[0m\u001b[1;33m\u001b[0m\u001b[1;33m\u001b[0m\u001b[0m\n\u001b[0;32m     95\u001b[0m             \u001b[0mstreams\u001b[0m \u001b[1;33m=\u001b[0m \u001b[1;33m[\u001b[0m\u001b[0m_get_stream\u001b[0m\u001b[1;33m(\u001b[0m\u001b[0mdevice\u001b[0m\u001b[1;33m)\u001b[0m \u001b[1;32mfor\u001b[0m \u001b[0mdevice\u001b[0m \u001b[1;32min\u001b[0m \u001b[0mtarget_gpus\u001b[0m\u001b[1;33m]\u001b[0m\u001b[1;33m\u001b[0m\u001b[1;33m\u001b[0m\u001b[0m\n\u001b[1;32m---> 96\u001b[1;33m         \u001b[0moutputs\u001b[0m \u001b[1;33m=\u001b[0m \u001b[0mcomm\u001b[0m\u001b[1;33m.\u001b[0m\u001b[0mscatter\u001b[0m\u001b[1;33m(\u001b[0m\u001b[0minput\u001b[0m\u001b[1;33m,\u001b[0m \u001b[0mtarget_gpus\u001b[0m\u001b[1;33m,\u001b[0m \u001b[0mchunk_sizes\u001b[0m\u001b[1;33m,\u001b[0m \u001b[0mctx\u001b[0m\u001b[1;33m.\u001b[0m\u001b[0mdim\u001b[0m\u001b[1;33m,\u001b[0m \u001b[0mstreams\u001b[0m\u001b[1;33m)\u001b[0m\u001b[1;33m\u001b[0m\u001b[1;33m\u001b[0m\u001b[0m\n\u001b[0m\u001b[0;32m     97\u001b[0m         \u001b[1;31m# Synchronize with the copy stream\u001b[0m\u001b[1;33m\u001b[0m\u001b[1;33m\u001b[0m\u001b[1;33m\u001b[0m\u001b[0m\n\u001b[0;32m     98\u001b[0m         \u001b[1;32mif\u001b[0m \u001b[0mstreams\u001b[0m \u001b[1;32mis\u001b[0m \u001b[1;32mnot\u001b[0m \u001b[1;32mNone\u001b[0m\u001b[1;33m:\u001b[0m\u001b[1;33m\u001b[0m\u001b[1;33m\u001b[0m\u001b[0m\n",
      "\u001b[1;32m~\\AppData\\Roaming\\Python\\Python37\\site-packages\\torch\\nn\\parallel\\comm.py\u001b[0m in \u001b[0;36mscatter\u001b[1;34m(tensor, devices, chunk_sizes, dim, streams, out)\u001b[0m\n\u001b[0;32m    187\u001b[0m     \u001b[1;32mif\u001b[0m \u001b[0mout\u001b[0m \u001b[1;32mis\u001b[0m \u001b[1;32mNone\u001b[0m\u001b[1;33m:\u001b[0m\u001b[1;33m\u001b[0m\u001b[1;33m\u001b[0m\u001b[0m\n\u001b[0;32m    188\u001b[0m         \u001b[0mdevices\u001b[0m \u001b[1;33m=\u001b[0m \u001b[1;33m[\u001b[0m\u001b[0m_get_device_index\u001b[0m\u001b[1;33m(\u001b[0m\u001b[0md\u001b[0m\u001b[1;33m)\u001b[0m \u001b[1;32mfor\u001b[0m \u001b[0md\u001b[0m \u001b[1;32min\u001b[0m \u001b[0mdevices\u001b[0m\u001b[1;33m]\u001b[0m\u001b[1;33m\u001b[0m\u001b[1;33m\u001b[0m\u001b[0m\n\u001b[1;32m--> 189\u001b[1;33m         \u001b[1;32mreturn\u001b[0m \u001b[0mtuple\u001b[0m\u001b[1;33m(\u001b[0m\u001b[0mtorch\u001b[0m\u001b[1;33m.\u001b[0m\u001b[0m_C\u001b[0m\u001b[1;33m.\u001b[0m\u001b[0m_scatter\u001b[0m\u001b[1;33m(\u001b[0m\u001b[0mtensor\u001b[0m\u001b[1;33m,\u001b[0m \u001b[0mdevices\u001b[0m\u001b[1;33m,\u001b[0m \u001b[0mchunk_sizes\u001b[0m\u001b[1;33m,\u001b[0m \u001b[0mdim\u001b[0m\u001b[1;33m,\u001b[0m \u001b[0mstreams\u001b[0m\u001b[1;33m)\u001b[0m\u001b[1;33m)\u001b[0m\u001b[1;33m\u001b[0m\u001b[1;33m\u001b[0m\u001b[0m\n\u001b[0m\u001b[0;32m    190\u001b[0m     \u001b[1;32melse\u001b[0m\u001b[1;33m:\u001b[0m\u001b[1;33m\u001b[0m\u001b[1;33m\u001b[0m\u001b[0m\n\u001b[0;32m    191\u001b[0m         \u001b[1;32mif\u001b[0m \u001b[0mdevices\u001b[0m \u001b[1;32mis\u001b[0m \u001b[1;32mnot\u001b[0m \u001b[1;32mNone\u001b[0m\u001b[1;33m:\u001b[0m\u001b[1;33m\u001b[0m\u001b[1;33m\u001b[0m\u001b[0m\n",
      "\u001b[1;31mAttributeError\u001b[0m: module 'torch._C' has no attribute '_scatter'"
     ]
    }
   ],
   "source": [
    "with torch.no_grad():\n",
    "    output = attmodel.forward(test_tensor.unsqueeze(0))"
   ]
  },
  {
   "cell_type": "code",
   "execution_count": 67,
   "id": "db1adac1",
   "metadata": {},
   "outputs": [
    {
     "data": {
      "text/plain": [
       "torch.Size([155, 240, 240])"
      ]
     },
     "execution_count": 67,
     "metadata": {},
     "output_type": "execute_result"
    }
   ],
   "source": [
    "output.squeeze().shape"
   ]
  },
  {
   "cell_type": "code",
   "execution_count": 68,
   "id": "413868ef",
   "metadata": {},
   "outputs": [],
   "source": [
    "test_label = output.squeeze().cpu().data.numpy()\n",
    "test_label[test_label<0]=0"
   ]
  },
  {
   "cell_type": "code",
   "execution_count": 69,
   "id": "41db5ea6",
   "metadata": {
    "scrolled": true
   },
   "outputs": [
    {
     "data": {
      "text/plain": [
       "(155, 240, 240)"
      ]
     },
     "execution_count": 69,
     "metadata": {},
     "output_type": "execute_result"
    }
   ],
   "source": [
    "test_label.shape"
   ]
  },
  {
   "cell_type": "code",
   "execution_count": 70,
   "id": "8e22e39c",
   "metadata": {},
   "outputs": [
    {
     "name": "stdout",
     "output_type": "stream",
     "text": [
      "S:\\StrokeAI\\Try\\3dUnet\\Pred\n"
     ]
    }
   ],
   "source": [
    "%cd S:/StrokeAI/Try/3dUnet/Pred"
   ]
  },
  {
   "cell_type": "code",
   "execution_count": 71,
   "id": "4ab680a9",
   "metadata": {},
   "outputs": [],
   "source": [
    "test_label = sitk.GetImageFromArray(test_label)\n",
    "\n",
    "sitk.WriteImage(test_label, '307_att.nii.gz')\n"
   ]
  },
  {
   "cell_type": "code",
   "execution_count": 72,
   "id": "fb1f6afa",
   "metadata": {},
   "outputs": [],
   "source": [
    "def pixel_error(path1, path2):\n",
    "    img1 = sitk.ReadImage(path1)\n",
    "    img1 = sitk.GetArrayFromImage(img1)\n",
    "    img2 = sitk.ReadImage(path2)\n",
    "    img2 = sitk.GetArrayFromImage(img2)\n",
    "    img1[img1>0] = 1\n",
    "    img1[img1<=0] = 0\n",
    "    img2[img2>0] = 1\n",
    "    img2[img2<=0] = 0\n",
    "    num = abs(sum(sum(sum(img1-img2))))\n",
    "    total = img1.shape[0]*img1.shape[1]*img1.shape[2]\n",
    "    return  num/total\n",
    "    \n",
    "    "
   ]
  },
  {
   "cell_type": "code",
   "execution_count": 73,
   "id": "c3948f67",
   "metadata": {},
   "outputs": [],
   "source": [
    "attpath1 = r'S:\\StrokeAI\\Try\\3dUnet\\Pred\\307_att.nii.gz'\n",
    "unetpath2 = r'S:\\StrokeAI\\Try\\3dUnet\\Pred\\307_unet.nii.gz'\n",
    "labelpath = r'S:\\StrokeAI\\Try\\3dUnet\\TestData\\Task01_BrainTumour\\Task01_BrainTumour\\labelsTr\\BRATS_307.nii.gz'"
   ]
  },
  {
   "cell_type": "code",
   "execution_count": 75,
   "id": "21fb5050",
   "metadata": {},
   "outputs": [
    {
     "name": "stdout",
     "output_type": "stream",
     "text": [
      "att_err: 0.001710125448028674\n",
      "unet_err: 0.0018702956989247311\n"
     ]
    }
   ],
   "source": [
    "print('att_err:',pixel_error(attpath1,labelpath))\n",
    "print('unet_err:',pixel_error(unetpath2,labelpath))"
   ]
  },
  {
   "cell_type": "code",
   "execution_count": 80,
   "id": "f4dcce4b",
   "metadata": {},
   "outputs": [],
   "source": [
    "import imageio"
   ]
  },
  {
   "cell_type": "code",
   "execution_count": 93,
   "id": "f9adaf14",
   "metadata": {},
   "outputs": [],
   "source": [
    "path = 'S:/StrokeAI/Try/3dUnet/Pred/307_unet_Axial/'"
   ]
  },
  {
   "cell_type": "code",
   "execution_count": 94,
   "id": "67574f3e",
   "metadata": {},
   "outputs": [],
   "source": [
    "def saveGif(path,save_name):\n",
    "    path = path\n",
    "    name_list = []\n",
    "    for i in os.listdir(path):\n",
    "        name = path + i\n",
    "        name_list.append(name)\n",
    "    name_list.sort()\n",
    "    images=[]\n",
    "    for i in name_list:\n",
    "        images.append(imageio.imread(i))\n",
    "    imageio.mimsave(f'{save_name}',images,duration =0.1)"
   ]
  },
  {
   "cell_type": "code",
   "execution_count": 95,
   "id": "b51599b6",
   "metadata": {},
   "outputs": [],
   "source": [
    "saveGif(path,'307_unet_Axial.gif')"
   ]
  },
  {
   "cell_type": "code",
   "execution_count": null,
   "id": "1abbdbfe",
   "metadata": {},
   "outputs": [],
   "source": [
    "images=[]"
   ]
  },
  {
   "cell_type": "code",
   "execution_count": null,
   "id": "010244da",
   "metadata": {},
   "outputs": [],
   "source": [
    "for i in name_list:\n",
    "    images.append(imageio.imread(i))\n",
    "imageio.mimsave('348.gif',images,duration =0.1)"
   ]
  },
  {
   "cell_type": "code",
   "execution_count": null,
   "id": "f4b7117a",
   "metadata": {},
   "outputs": [],
   "source": [
    "len(images)"
   ]
  },
  {
   "cell_type": "code",
   "execution_count": null,
   "id": "47db4f81",
   "metadata": {},
   "outputs": [],
   "source": []
  },
  {
   "cell_type": "code",
   "execution_count": null,
   "id": "9c2beeb3",
   "metadata": {},
   "outputs": [],
   "source": []
  },
  {
   "cell_type": "code",
   "execution_count": null,
   "id": "8b34da8c",
   "metadata": {},
   "outputs": [],
   "source": []
  },
  {
   "cell_type": "code",
   "execution_count": null,
   "id": "0add0030",
   "metadata": {},
   "outputs": [],
   "source": []
  }
 ],
 "metadata": {
  "kernelspec": {
   "display_name": "Python 3 (ipykernel)",
   "language": "python",
   "name": "python3"
  },
  "language_info": {
   "codemirror_mode": {
    "name": "ipython",
    "version": 3
   },
   "file_extension": ".py",
   "mimetype": "text/x-python",
   "name": "python",
   "nbconvert_exporter": "python",
   "pygments_lexer": "ipython3",
   "version": "3.7.13"
  }
 },
 "nbformat": 4,
 "nbformat_minor": 5
}
